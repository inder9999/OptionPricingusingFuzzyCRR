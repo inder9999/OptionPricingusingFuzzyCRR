{
  "nbformat": 4,
  "nbformat_minor": 0,
  "metadata": {
    "colab": {
      "provenance": [],
      "collapsed_sections": []
    },
    "kernelspec": {
      "name": "python3",
      "display_name": "Python 3"
    },
    "language_info": {
      "name": "python"
    }
  },
  "cells": [
    {
      "cell_type": "code",
      "metadata": {
        "id": "1W5XRKYtDOj6"
      },
      "source": [
        "import numpy as np\n",
        "from pprint import pprint"
      ],
      "execution_count": null,
      "outputs": []
    },
    {
      "cell_type": "code",
      "metadata": {
        "id": "louFW3e4BbQ6"
      },
      "source": [
        "S1, Rl, Rm, Rh, sensitivity, volatility, X, T, n = (996.52, 0.0085, 0.00915, 0.0098, 0.05, 0.114181, 1100, 0.6, 2)"
      ],
      "execution_count": null,
      "outputs": []
    },
    {
      "cell_type": "code",
      "metadata": {
        "id": "Xy1m-8XiCKHA"
      },
      "source": [
        "t = T / n "
      ],
      "execution_count": null,
      "outputs": []
    },
    {
      "cell_type": "markdown",
      "metadata": {
        "id": "sT8-yVcznOwe"
      },
      "source": [
        "\n",
        "\n",
        "\n",
        "# Using Recursion - This code works for all n values"
      ]
    },
    {
      "cell_type": "code",
      "metadata": {
        "id": "8JBf0KNjF9PQ"
      },
      "source": [
        "def _option_price(S,sensitivity,volatility,t,n_steps,x,Pu,Pm,Pl,exp_rh,exp_rm,exp_rl,n):\n",
        "    sur = S * np.exp((1 + sensitivity) * volatility * np.sqrt(t))\n",
        "    sum = S * np.exp(volatility * np.sqrt(t))\n",
        "    sul = S * np.exp((1 - sensitivity) * volatility * np.sqrt(t))\n",
        "\n",
        "    sdr = S * np.exp(-1 * (1 - sensitivity) * volatility * np.sqrt(t))\n",
        "    sdm = S * np.exp(-1 * volatility * np.sqrt(t))\n",
        "    sdl = S * np.exp(-1 * (1 + sensitivity) * volatility * np.sqrt(t))\n",
        "\n",
        "    if n==n_steps :\n",
        "      cur = max(sur-x,0)\n",
        "      cum = max(sum-x,0)\n",
        "      cul = max(sul-x,0)\n",
        "\n",
        "      cdr = max(sdr-x,0)\n",
        "      cdm = max(sdm-x,0)\n",
        "      cdl = max(sdl-x,0)\n",
        "\n",
        "    else :\n",
        "      cur = _option_price(sur,sensitivity,volatility,t,n_steps,x,Pu,Pm,Pl,exp_rh,exp_rm,exp_rl,n+1)\n",
        "      cum = _option_price(sum,sensitivity,volatility,t,n_steps,x,Pu,Pm,Pl,exp_rh,exp_rm,exp_rl,n+1)\n",
        "      cul = _option_price(sul,sensitivity,volatility,t,n_steps,x,Pu,Pm,Pl,exp_rh,exp_rm,exp_rl,n+1)\n",
        "\n",
        "      cdr = _option_price(sdr,sensitivity,volatility,t,n_steps,x,Pu,Pm,Pl,exp_rh,exp_rm,exp_rl,n+1)\n",
        "      cdm = _option_price(sdm,sensitivity,volatility,t,n_steps,x,Pu,Pm,Pl,exp_rh,exp_rm,exp_rl,n+1)\n",
        "      cdl = _option_price(sdl,sensitivity,volatility,t,n_steps,x,Pu,Pm,Pl,exp_rh,exp_rm,exp_rl,n+1)\n",
        "\n",
        "\n",
        "\n",
        "    Cu = (Pu * cur + (1 - Pu) * cdl) / exp_rh \n",
        "    Cm = (Pm * cum + (1 - Pm) * cdm)  / exp_rm \n",
        "    Cl = (Pl * cul+ (1 - Pl) * cdr) / exp_rl \n",
        "      \n",
        "      #return [Cu, Cm, Cl]\n",
        "    return Cl +(Cu + Cm - 2*Cl)/3\n",
        "\n"
      ],
      "execution_count": null,
      "outputs": []
    },
    {
      "cell_type": "code",
      "metadata": {
        "id": "1V3erpavh6p_"
      },
      "source": [
        "def option_price(S1, Rl,Rm,Rh, sensitivity,volatility,n_steps,T,x):\n",
        "\n",
        "    t = T/n_steps\n",
        "\n",
        "    exp_rh = np.exp(Rh * t)\n",
        "    exp_rm = np.exp(Rm * t)\n",
        "    exp_rl = np.exp(Rl * t)\n",
        "\n",
        "    ur = np.exp((1 + sensitivity) * volatility * np.sqrt(t)) # Factor with which value of stock increases\n",
        "    um = np.exp(volatility * np.sqrt(t))\n",
        "    ul = np.exp((1 - sensitivity) * volatility * np.sqrt(t))\n",
        "\n",
        "    dr = np.exp(-1 * (1 - sensitivity) * volatility * np.sqrt(t)) # Factor with which value of stock decreases\n",
        "    dm = np.exp(-1 * volatility * np.sqrt(t))\n",
        "    dl = np.exp(-1 * (1 + sensitivity) * volatility * np.sqrt(t))\n",
        "\n",
        "    Pu = (exp_rh - dl) / (ur - dl)\n",
        "    Pm = (exp_rm - dm) / (um - dm)\n",
        "    Pl = (exp_rl - dr) / (ul - dr)\n",
        "\n",
        "    sur = S1 * np.exp((1 + sensitivity) * volatility * np.sqrt(t))\n",
        "    sum = S1 * np.exp(volatility * np.sqrt(t))\n",
        "    sul = S1 * np.exp((1 - sensitivity) * volatility * np.sqrt(t))\n",
        "\n",
        "    sdr = S1 * np.exp(-1 * (1 - sensitivity) * volatility * np.sqrt(t))\n",
        "    sdm = S1 * np.exp(-1 * volatility * np.sqrt(t))\n",
        "    sdl = S1 * np.exp(-1 * (1 + sensitivity) * volatility * np.sqrt(t))\n",
        "\n",
        "    if n_steps==1:\n",
        "      cur = max(sur-x,0)\n",
        "      cum = max(sum-x,0)\n",
        "      cul = max(sul-x,0)\n",
        "\n",
        "      cdr = max(sdr-x,0)\n",
        "      cdm = max(sdm-x,0)\n",
        "      cdl = max(sdl-x,0)\n",
        "\n",
        "    else : \n",
        "      cur = _option_price(sur,sensitivity,volatility,t,n_steps-1,x,Pu,Pm,Pl,exp_rh,exp_rm,exp_rl,1)\n",
        "      cum = _option_price(sum,sensitivity,volatility,t,n_steps-1,x,Pu,Pm,Pl,exp_rh,exp_rm,exp_rl,1)\n",
        "      cul = _option_price(sul,sensitivity,volatility,t,n_steps-1,x,Pu,Pm,Pl,exp_rh,exp_rm,exp_rl,1)\n",
        "\n",
        "      cdr = _option_price(sdr,sensitivity,volatility,t,n_steps-1,x,Pu,Pm,Pl,exp_rh,exp_rm,exp_rl,1)\n",
        "      cdm = _option_price(sdm,sensitivity,volatility,t,n_steps-1,x,Pu,Pm,Pl,exp_rh,exp_rm,exp_rl,1)\n",
        "      cdl = _option_price(sdm,sensitivity,volatility,t,n_steps-1,x,Pu,Pm,Pl,exp_rh,exp_rm,exp_rl,1) \n",
        "\n",
        "\n",
        "\n",
        "\n",
        "    Cu = (Pu * cur + (1 - Pu) * cdl) / exp_rh \n",
        "    Cm = (Pm * cum + (1 - Pm) * cdm)  / exp_rm \n",
        "    Cl = (Pl * cul+ (1 - Pl) * cdr) / exp_rl \n",
        "    \n",
        "    return [Cu, Cm, Cl]\n",
        "\n",
        "\n"
      ],
      "execution_count": null,
      "outputs": []
    },
    {
      "cell_type": "code",
      "metadata": {
        "colab": {
          "base_uri": "https://localhost:8080/"
        },
        "id": "rTQ_Uev3lvSq",
        "outputId": "3ac29c5a-c4f3-43bb-e7d7-ea5dc15bbc13"
      },
      "source": [
        "print(option_price(996.52, 0.0085, 0.00915, 0.0098, 0.05, 0.114181, 2, 0.6, 1000))"
      ],
      "execution_count": null,
      "outputs": [
        {
          "output_type": "stream",
          "name": "stdout",
          "text": [
            "[34.06722011068963, 32.96544342242208, 32.32076689931808]\n"
          ]
        }
      ]
    },
    {
      "cell_type": "code",
      "metadata": {
        "id": "T2UAH9Yb26G7"
      },
      "source": [],
      "execution_count": null,
      "outputs": []
    }
  ]
}